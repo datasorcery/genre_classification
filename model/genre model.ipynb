{
 "cells": [
  {
   "cell_type": "markdown",
   "metadata": {},
   "source": [
    "# Genre Prediction Model"
   ]
  },
  {
   "cell_type": "code",
   "execution_count": 1,
   "metadata": {},
   "outputs": [],
   "source": [
    "import nltk\n",
    "from nltk.corpus import stopwords\n",
    "import re\n",
    "import string\n",
    "import pandas as pd\n",
    "import os"
   ]
  },
  {
   "cell_type": "markdown",
   "metadata": {},
   "source": [
    "## Configuração"
   ]
  },
  {
   "cell_type": "code",
   "execution_count": 19,
   "metadata": {
    "collapsed": true
   },
   "outputs": [],
   "source": [
    "# Execute na primeira vez em que usar este notebook\n",
    "#nltk.download()\n",
    "MODEL = os.path.join('..','app','model')\n",
    "TRAINSET = os.path.join('.','train')\n",
    "WORD_FEATURES = 2500\n",
    "TEST_RATIO = 0.2 # Size of test set\n",
    "RANDOM_SEED = 1010011010\n",
    "N_TREES = 100 # Number of trees for RF\n",
    "CORES = 3 # How many cores to user for parallel RF (-1 uses all cores)"
   ]
  },
  {
   "cell_type": "markdown",
   "metadata": {},
   "source": [
    "## Pré processamento"
   ]
  },
  {
   "cell_type": "markdown",
   "metadata": {},
   "source": [
    "Primeiramente carregamos as letras de música. Cada entrada no **train set** será formada por um verso."
   ]
  },
  {
   "cell_type": "code",
   "execution_count": 84,
   "metadata": {},
   "outputs": [
    {
     "name": "stdout",
     "output_type": "stream",
     "text": [
      "Corpus contém 3200 músicas em 4, com um total de 99380 estrofes\n"
     ]
    }
   ],
   "source": [
    "# Descobre generos que deverão ser utilizados\n",
    "genres = list()\n",
    "for file in os.listdir(TRAINSET):\n",
    "    if file.endswith(\".csv\"):\n",
    "        genres.append(file[0:-4])\n",
    "\n",
    "# Aqui salvaremos o train set sendo gerado a partir dos arquivos texto\n",
    "raw_corpus = pd.DataFrame()\n",
    "\n",
    "# Le os arquivos\n",
    "for g in genres:\n",
    "    df = pd.read_csv(os.path.join(TRAINSET,'{}.csv'.format(g)))\n",
    "    df['genero'] = g\n",
    "    raw_corpus = raw_corpus.append(df)\n",
    "\n",
    "# Dados gerais\n",
    "n_musicas = len(raw_corpus)\n",
    "n_generos = len(genres)\n",
    "\n",
    "# Quebra uma estrofe por linha\n",
    "raw_corpus = raw_corpus.reset_index(drop=True)\n",
    "raw_corpus['idx'] = range(len(raw_corpus))\n",
    "s = raw_corpus['lyric'].str.split('\\n').apply(pd.Series, 1).stack()\n",
    "s.index = s.index.droplevel(-1) # to line up with df's index\n",
    "s.name = 'estrofe'\n",
    "raw_corpus = raw_corpus.join(s)\n",
    "raw_corpus = raw_corpus[raw_corpus['estrofe'] != ' ']\n",
    "raw_corpus = raw_corpus.reset_index(drop=True)\n",
    "\n",
    "print(\"Corpus contém {} músicas em {}, com um total de {} estrofes\".format(n_musicas, n_generos, len(raw_corpus)))"
   ]
  },
  {
   "cell_type": "markdown",
   "metadata": {},
   "source": [
    "Agora iremos preparar as estrofes com as seguintes ações:\n",
    "\n",
    "* remover stopwords;\n",
    "* remover pontuação;\n",
    "* garantindo que todas as palavras estejam em caixa baixa;\n",
    "* quebrar cada estrofe em uma lista de palavras"
   ]
  },
  {
   "cell_type": "code",
   "execution_count": 9,
   "metadata": {
    "collapsed": true
   },
   "outputs": [],
   "source": [
    "def prepara_estrofes(frase, translator = str.maketrans('', '', string.punctuation)):\n",
    "    # Remove pontuação\n",
    "    frase = frase.translate(translator)\n",
    "    \n",
    "    # Garante que todas as palavras estão em caixa baixa\n",
    "    palavras = frase.lower().split()\n",
    "    \n",
    "    # Lista de stopwords que usaremos\n",
    "    stop_w = set(stopwords.words(\"portuguese\"))\n",
    "    \n",
    "    # Retorna apenas as palavras que não são stopwords\n",
    "    palavras_filtradas = [palavra for palavra in palavras if palavra not in stop_w]\n",
    "    \n",
    "    # Retorna a estrofe preparada\n",
    "    return(\" \".join(palavras_filtradas))"
   ]
  },
  {
   "cell_type": "code",
   "execution_count": 10,
   "metadata": {},
   "outputs": [
    {
     "name": "stdout",
     "output_type": "stream",
     "text": [
      "sei vou amar\n"
     ]
    }
   ],
   "source": [
    "print(prepara_estrofes('Eu sei que !!! , )vou te amar'))"
   ]
  },
  {
   "cell_type": "markdown",
   "metadata": {},
   "source": [
    "Agora iremos aplicar nosso procedimento de preparação no nosso dataset"
   ]
  },
  {
   "cell_type": "code",
   "execution_count": 90,
   "metadata": {},
   "outputs": [
    {
     "name": "stdout",
     "output_type": "stream",
     "text": [
      "Verso 10000 de 99380 processado\n",
      "Verso 20000 de 99380 processado\n",
      "Verso 30000 de 99380 processado\n",
      "Verso 40000 de 99380 processado\n",
      "Verso 50000 de 99380 processado\n",
      "Verso 60000 de 99380 processado\n",
      "Verso 70000 de 99380 processado\n",
      "Verso 80000 de 99380 processado\n",
      "Verso 90000 de 99380 processado\n"
     ]
    }
   ],
   "source": [
    "# Vamos salvas as estrofes preparadas nesta lista\n",
    "estrofes_preparadas = list()\n",
    "no_estrofes = len(raw_corpus)\n",
    "\n",
    "for i in range(0, no_estrofes):\n",
    "    if( (i+1)%10000 == 0 ):\n",
    "        print(\"Verso %d de %d processado\" % ( i+1, no_estrofes ) )\n",
    "    estrofes_preparadas.append( prepara_estrofes(raw_corpus['estrofe'][i]) )\n",
    "raw_corpus['versos_preparados'] = estrofes_preparadas"
   ]
  },
  {
   "cell_type": "markdown",
   "metadata": {},
   "source": [
    "## Modelo"
   ]
  },
  {
   "cell_type": "markdown",
   "metadata": {},
   "source": [
    "Usaremos a abordagem **Bag of Words** para vetorizar nossas estrofes e treinar o modelo"
   ]
  },
  {
   "cell_type": "code",
   "execution_count": 12,
   "metadata": {
    "collapsed": true
   },
   "outputs": [],
   "source": [
    "from sklearn.feature_extraction.text import CountVectorizer\n",
    "from sklearn.ensemble import RandomForestClassifier\n",
    "from sklearn.svm import SVC\n",
    "from sklearn.model_selection import train_test_split\n",
    "from sklearn.metrics import confusion_matrix, precision_score, recall_score, accuracy_score\n",
    "from sklearn.externals import joblib"
   ]
  },
  {
   "cell_type": "code",
   "execution_count": 54,
   "metadata": {
    "collapsed": true
   },
   "outputs": [],
   "source": [
    "def validacao(X, y):\n",
    "    # TODO Mostrar gráficamente a confusion matrix\n",
    "    print('Matriz de Confusão: \\n{}'.format(confusion_matrix(y, X)))\n",
    "    print('Accuracy: {}'.format(accuracy_score(y, X)))\n",
    "    print('Precision: {}'.format(precision_score(y, X, average='macro')))\n",
    "    print('Recall: {}'.format(recall_score(y, X, average='macro')))"
   ]
  },
  {
   "cell_type": "code",
   "execution_count": 15,
   "metadata": {
    "collapsed": true
   },
   "outputs": [],
   "source": [
    "vetorizador = CountVectorizer(analyzer = \"word\", tokenizer = None, preprocessor = None,\n",
    "                              stop_words = None, max_features = WORD_FEATURES)\n",
    "train_data_features = vetorizador.fit_transform(estrofes_preparadas)\n",
    "train_data_features = train_data_features.toarray()"
   ]
  },
  {
   "cell_type": "code",
   "execution_count": 18,
   "metadata": {},
   "outputs": [],
   "source": [
    "X_train, X_test, y_train, y_test = train_test_split(train_data_features, raw_corpus['genero'],\n",
    "                                                    test_size=TEST_RATIO, random_state=RANDOM_SEED)"
   ]
  },
  {
   "cell_type": "code",
   "execution_count": 21,
   "metadata": {},
   "outputs": [
    {
     "name": "stdout",
     "output_type": "stream",
     "text": [
      "building tree 2 of 100building tree 3 of 100building tree 1 of 100\n",
      "\n",
      "\n",
      "building tree 4 of 100\n"
     ]
    },
    {
     "name": "stderr",
     "output_type": "stream",
     "text": [
      "[Parallel(n_jobs=3)]: Done   2 tasks      | elapsed:   25.9s\n"
     ]
    },
    {
     "name": "stdout",
     "output_type": "stream",
     "text": [
      "building tree 5 of 100\n",
      "building tree 6 of 100\n",
      "building tree 7 of 100\n",
      "building tree 8 of 100\n",
      "building tree 9 of 100\n"
     ]
    },
    {
     "name": "stderr",
     "output_type": "stream",
     "text": [
      "[Parallel(n_jobs=3)]: Done   7 tasks      | elapsed:  1.3min\n"
     ]
    },
    {
     "name": "stdout",
     "output_type": "stream",
     "text": [
      "building tree 10 of 100\n",
      "building tree 11 of 100\n",
      "building tree 12 of 100\n",
      "building tree 13 of 100\n",
      "building tree 14 of 100\n"
     ]
    },
    {
     "name": "stderr",
     "output_type": "stream",
     "text": [
      "[Parallel(n_jobs=3)]: Done  12 tasks      | elapsed:  1.8min\n"
     ]
    },
    {
     "name": "stdout",
     "output_type": "stream",
     "text": [
      "building tree 15 of 100\n",
      "building tree 16 of 100\n",
      "building tree 17 of 100\n",
      "building tree 18 of 100\n",
      "building tree 19 of 100\n",
      "building tree 20 of 100\n",
      "building tree 21 of 100\n",
      "building tree 22 of 100\n",
      "building tree 23 of 100\n"
     ]
    },
    {
     "name": "stderr",
     "output_type": "stream",
     "text": [
      "[Parallel(n_jobs=3)]: Done  19 tasks      | elapsed:  3.3min\n"
     ]
    },
    {
     "name": "stdout",
     "output_type": "stream",
     "text": [
      "building tree 24 of 100\n",
      "building tree 25 of 100\n",
      "building tree 26 of 100\n",
      "building tree 27 of 100\n",
      "building tree 28 of 100\n"
     ]
    },
    {
     "name": "stderr",
     "output_type": "stream",
     "text": [
      "[Parallel(n_jobs=3)]: Done  26 tasks      | elapsed:  4.2min\n"
     ]
    },
    {
     "name": "stdout",
     "output_type": "stream",
     "text": [
      "building tree 29 of 100\n",
      "building tree 30 of 100\n",
      "building tree 31 of 100\n",
      "building tree 32 of 100\n",
      "building tree 33 of 100\n",
      "building tree 34 of 100\n",
      "building tree 35 of 100\n",
      "building tree 36 of 100\n",
      "building tree 37 of 100\n"
     ]
    },
    {
     "name": "stderr",
     "output_type": "stream",
     "text": [
      "[Parallel(n_jobs=3)]: Done  35 tasks      | elapsed:  5.7min\n"
     ]
    },
    {
     "name": "stdout",
     "output_type": "stream",
     "text": [
      "building tree 38 of 100\n",
      "building tree 39 of 100\n",
      "building tree 40 of 100\n",
      "building tree 41 of 100\n",
      "building tree 42 of 100\n",
      "building tree 43 of 100\n",
      "building tree 44 of 100\n",
      "building tree 45 of 100\n",
      "building tree 46 of 100\n"
     ]
    },
    {
     "name": "stderr",
     "output_type": "stream",
     "text": [
      "[Parallel(n_jobs=3)]: Done  44 tasks      | elapsed:  7.2min\n"
     ]
    },
    {
     "name": "stdout",
     "output_type": "stream",
     "text": [
      "building tree 47 of 100\n",
      "building tree 48 of 100\n",
      "building tree 49 of 100\n",
      "building tree 50 of 100\n",
      "building tree 51 of 100\n",
      "building tree 52 of 100\n",
      "building tree 53 of 100\n",
      "building tree 54 of 100\n",
      "building tree 55 of 100\n",
      "building tree 56 of 100\n",
      "building tree 57 of 100\n"
     ]
    },
    {
     "name": "stderr",
     "output_type": "stream",
     "text": [
      "[Parallel(n_jobs=3)]: Done  55 tasks      | elapsed:  9.2min\n"
     ]
    },
    {
     "name": "stdout",
     "output_type": "stream",
     "text": [
      "building tree 58 of 100\n",
      "building tree 59 of 100\n",
      "building tree 60 of 100\n",
      "building tree 61 of 100\n",
      "building tree 62 of 100\n",
      "building tree 63 of 100\n",
      "building tree 64 of 100\n",
      "building tree 65 of 100\n",
      "building tree 66 of 100\n",
      "building tree 67 of 100\n",
      "building tree 68 of 100\n",
      "building tree 69 of 100\n"
     ]
    },
    {
     "name": "stderr",
     "output_type": "stream",
     "text": [
      "[Parallel(n_jobs=3)]: Done  66 tasks      | elapsed: 10.9min\n"
     ]
    },
    {
     "name": "stdout",
     "output_type": "stream",
     "text": [
      "building tree 70 of 100\n",
      "building tree 71 of 100\n",
      "building tree 72 of 100\n",
      "building tree 73 of 100\n",
      "building tree 74 of 100\n",
      "building tree 75 of 100\n",
      "building tree 76 of 100\n",
      "building tree 77 of 100\n",
      "building tree 78 of 100\n",
      "building tree 79 of 100\n",
      "building tree 80 of 100\n",
      "building tree 81 of 100\n"
     ]
    },
    {
     "name": "stderr",
     "output_type": "stream",
     "text": [
      "[Parallel(n_jobs=3)]: Done  79 tasks      | elapsed: 13.1min\n"
     ]
    },
    {
     "name": "stdout",
     "output_type": "stream",
     "text": [
      "building tree 82 of 100\n",
      "building tree 83 of 100\n",
      "building tree 84 of 100\n",
      "building tree 85 of 100\n",
      "building tree 86 of 100\n",
      "building tree 87 of 100\n",
      "building tree 88 of 100\n",
      "building tree 89 of 100\n",
      "building tree 90 of 100\n",
      "building tree 91 of 100\n",
      "building tree 92 of 100\n",
      "building tree 93 of 100\n",
      "building tree 94 of 100\n"
     ]
    },
    {
     "name": "stderr",
     "output_type": "stream",
     "text": [
      "[Parallel(n_jobs=3)]: Done  92 tasks      | elapsed: 15.2min\n"
     ]
    },
    {
     "name": "stdout",
     "output_type": "stream",
     "text": [
      "building tree 95 of 100\n",
      "building tree 96 of 100\n",
      "building tree 97 of 100\n",
      "building tree 98 of 100\n",
      "building tree 99 of 100\n",
      "building tree 100 of 100\n"
     ]
    },
    {
     "name": "stderr",
     "output_type": "stream",
     "text": [
      "[Parallel(n_jobs=3)]: Done 100 out of 100 | elapsed: 16.4min finished\n"
     ]
    },
    {
     "name": "stdout",
     "output_type": "stream",
     "text": [
      "CPU times: user 45min 23s, sys: 11.6 s, total: 45min 35s\n",
      "Wall time: 16min 28s\n"
     ]
    },
    {
     "name": "stderr",
     "output_type": "stream",
     "text": [
      "[Parallel(n_jobs=3)]: Done   2 tasks      | elapsed:    0.1s\n",
      "[Parallel(n_jobs=3)]: Done   7 tasks      | elapsed:    0.2s\n",
      "[Parallel(n_jobs=3)]: Done  12 tasks      | elapsed:    0.4s\n",
      "[Parallel(n_jobs=3)]: Done  19 tasks      | elapsed:    0.6s\n",
      "[Parallel(n_jobs=3)]: Done  26 tasks      | elapsed:    0.8s\n",
      "[Parallel(n_jobs=3)]: Done  35 tasks      | elapsed:    1.1s\n",
      "[Parallel(n_jobs=3)]: Done  44 tasks      | elapsed:    1.3s\n",
      "[Parallel(n_jobs=3)]: Done  55 tasks      | elapsed:    1.7s\n",
      "[Parallel(n_jobs=3)]: Done  66 tasks      | elapsed:    2.0s\n",
      "[Parallel(n_jobs=3)]: Done  79 tasks      | elapsed:    2.3s\n",
      "[Parallel(n_jobs=3)]: Done  92 tasks      | elapsed:    2.7s\n",
      "[Parallel(n_jobs=3)]: Done 100 out of 100 | elapsed:    2.9s finished\n"
     ]
    }
   ],
   "source": [
    "# Inicialzando classificador e treinando modelo\n",
    "forest = RandomForestClassifier(n_estimators = N_TREES, n_jobs=CORES, verbose=10) \n",
    "%time forest = forest.fit( X_train, y_train )\n",
    "predictions_RF = forest.predict(X_test)"
   ]
  },
  {
   "cell_type": "markdown",
   "metadata": {},
   "source": [
    "## Validação"
   ]
  },
  {
   "cell_type": "code",
   "execution_count": 53,
   "metadata": {
    "scrolled": true
   },
   "outputs": [
    {
     "name": "stdout",
     "output_type": "stream",
     "text": [
      "Matriz de Confusão: \n",
      "[[2815  391  378  495]\n",
      " [ 780 4646  352  558]\n",
      " [ 559  308 3469  432]\n",
      " [ 696  648  450 2899]]\n",
      "Accuracy: 0.6957637351579795\n",
      "Precision: 0.6907750928335938\n",
      "Recall: 0.6921693965476496\n"
     ]
    }
   ],
   "source": [
    "# Validando por verso\n",
    "validacao(predictions_RF, y_test)"
   ]
  },
  {
   "cell_type": "code",
   "execution_count": 91,
   "metadata": {},
   "outputs": [
    {
     "name": "stderr",
     "output_type": "stream",
     "text": [
      "[Parallel(n_jobs=3)]: Done   2 tasks      | elapsed:    0.3s\n",
      "[Parallel(n_jobs=3)]: Done   7 tasks      | elapsed:    0.6s\n",
      "[Parallel(n_jobs=3)]: Done  12 tasks      | elapsed:    1.0s\n",
      "[Parallel(n_jobs=3)]: Done  19 tasks      | elapsed:    1.5s\n",
      "[Parallel(n_jobs=3)]: Done  26 tasks      | elapsed:    2.1s\n",
      "[Parallel(n_jobs=3)]: Done  35 tasks      | elapsed:    2.8s\n",
      "[Parallel(n_jobs=3)]: Done  44 tasks      | elapsed:    3.5s\n",
      "[Parallel(n_jobs=3)]: Done  55 tasks      | elapsed:    4.4s\n",
      "[Parallel(n_jobs=3)]: Done  66 tasks      | elapsed:    5.2s\n",
      "[Parallel(n_jobs=3)]: Done  79 tasks      | elapsed:    6.3s\n",
      "[Parallel(n_jobs=3)]: Done  92 tasks      | elapsed:    7.3s\n",
      "[Parallel(n_jobs=3)]: Done 100 out of 100 | elapsed:    8.0s finished\n"
     ]
    }
   ],
   "source": [
    "# Validando por música\n",
    "raw_corpus['pred_verso'] = forest.predict(vetorizador.transform(raw_corpus['versos_preparados']))"
   ]
  },
  {
   "cell_type": "code",
   "execution_count": 101,
   "metadata": {},
   "outputs": [],
   "source": [
    "from collections import Counter\n",
    "predicoes_musica = list()\n",
    "genero_musica = list()\n",
    "for i in raw_corpus['idx'].drop_duplicates():\n",
    "    df = raw_corpus[raw_corpus.idx == i]\n",
    "    \n",
    "    # Encontra classe mais comum\n",
    "    count = Counter(df['pred_verso'])\n",
    "    genero_musica.append(df['genero'].unique())\n",
    "    predicoes_musica.append(count.most_common(1)[0][0])"
   ]
  },
  {
   "cell_type": "code",
   "execution_count": 104,
   "metadata": {},
   "outputs": [
    {
     "name": "stdout",
     "output_type": "stream",
     "text": [
      "Matriz de Confusão: \n",
      "[[796   1   0   3]\n",
      " [  5 793   1   1]\n",
      " [  3   1 795   1]\n",
      " [  2   2   0 796]]\n",
      "Accuracy: 0.99375\n",
      "Precision: 0.9937689382178871\n",
      "Recall: 0.99375\n"
     ]
    }
   ],
   "source": [
    "# Predição por Música\n",
    "validacao(predicoes_musica,genero_musica)"
   ]
  },
  {
   "cell_type": "code",
   "execution_count": 108,
   "metadata": {},
   "outputs": [
    {
     "data": {
      "text/plain": [
       "['../app/model/stopwords.pkl.bz2']"
      ]
     },
     "execution_count": 108,
     "metadata": {},
     "output_type": "execute_result"
    }
   ],
   "source": [
    "# Exportando modelo e vetorizador\n",
    "joblib.dump(vetorizador, os.path.join(MODEL,'vetorizador.pkl.bz2'))\n",
    "joblib.dump(forest, os.path.join(MODEL,'modelo.pkl.bz2')) \n",
    "joblib.dump(stopwords.words(), os.path.join(MODEL,'stopwords.pkl.bz2')) "
   ]
  }
 ],
 "metadata": {
  "kernelspec": {
   "display_name": "Python 3",
   "language": "python",
   "name": "python3"
  },
  "language_info": {
   "codemirror_mode": {
    "name": "ipython",
    "version": 3
   },
   "file_extension": ".py",
   "mimetype": "text/x-python",
   "name": "python",
   "nbconvert_exporter": "python",
   "pygments_lexer": "ipython3",
   "version": "3.6.1"
  }
 },
 "nbformat": 4,
 "nbformat_minor": 2
}
