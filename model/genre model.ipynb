{
 "cells": [
  {
   "cell_type": "markdown",
   "metadata": {},
   "source": [
    "# Genre Prediction Model"
   ]
  },
  {
   "cell_type": "code",
   "execution_count": 1,
   "metadata": {},
   "outputs": [],
   "source": [
    "import nltk\n",
    "from nltk.corpus import stopwords\n",
    "import re\n",
    "import string\n",
    "import pandas as pd\n",
    "import os\n",
    "import random"
   ]
  },
  {
   "cell_type": "markdown",
   "metadata": {},
   "source": [
    "## Configuração"
   ]
  },
  {
   "cell_type": "code",
   "execution_count": 2,
   "metadata": {
    "collapsed": true
   },
   "outputs": [],
   "source": [
    "# Execute na primeira vez em que usar este notebook\n",
    "#nltk.download()\n",
    "MODEL = os.path.join('..','app','model')\n",
    "TRAINSET = os.path.join('.','train')\n",
    "WORD_FEATURES = 2500\n",
    "TEST_RATIO = 0.2 # Size of test set\n",
    "RANDOM_SEED = 1010011010\n",
    "N_TREES = 100 # Number of trees for RF\n",
    "CORES = 3 # How many cores to user for parallel RF (-1 uses all cores)"
   ]
  },
  {
   "cell_type": "markdown",
   "metadata": {},
   "source": [
    "## Pré processamento"
   ]
  },
  {
   "cell_type": "markdown",
   "metadata": {},
   "source": [
    "Primeiramente carregamos as letras de música. Cada entrada no **train set** será formada por um verso."
   ]
  },
  {
   "cell_type": "code",
   "execution_count": 3,
   "metadata": {
    "collapsed": true
   },
   "outputs": [],
   "source": [
    "def sample_selection(TR = 0.2, N = 800):\n",
    "    tr_n = round(N * TR)\n",
    "    ts_n = N - tr_n\n",
    "    t1 = [True] * ts_n\n",
    "    t2 = [False] * tr_n\n",
    "    t = t1 + t2\n",
    "        \n",
    "    train_filter = list()\n",
    "    for i in range(4):\n",
    "        random.shuffle(t)\n",
    "        train_filter = train_filter + t\n",
    "    return(train_filter)"
   ]
  },
  {
   "cell_type": "code",
   "execution_count": 4,
   "metadata": {},
   "outputs": [
    {
     "name": "stdout",
     "output_type": "stream",
     "text": [
      "Corpus contém 3200 músicas em 4, com um total de 99380 estrofes\n"
     ]
    }
   ],
   "source": [
    "# Descobre generos que deverão ser utilizados\n",
    "genres = list()\n",
    "for file in os.listdir(TRAINSET):\n",
    "    if file.endswith(\".csv\"):\n",
    "        genres.append(file[0:-4])\n",
    "\n",
    "# Aqui salvaremos o train set sendo gerado a partir dos arquivos texto\n",
    "raw_corpus = pd.DataFrame()\n",
    "\n",
    "# Le os arquivos\n",
    "for g in genres:\n",
    "    df = pd.read_csv(os.path.join(TRAINSET,'{}.csv'.format(g)))\n",
    "    df['genero'] = g\n",
    "    raw_corpus = raw_corpus.append(df)\n",
    "    \n",
    "# Dados gerais\n",
    "n_musicas = len(raw_corpus)\n",
    "n_generos = len(genres)\n",
    "\n",
    "# Prepara dataset para ser validado no final\n",
    "raw_corpus = raw_corpus.reset_index(drop=True)\n",
    "raw_corpus['idx'] = range(len(raw_corpus))\n",
    "random.seed('012345')\n",
    "raw_corpus['inTrain'] = sample_selection(TEST_RATIO)\n",
    "\n",
    "# Quebra uma estrofe por linha\n",
    "s = raw_corpus['lyric'].str.split('\\n').apply(pd.Series, 1).stack()\n",
    "s.index = s.index.droplevel(-1) # to line up with df's index\n",
    "s.name = 'estrofe'\n",
    "raw_corpus = raw_corpus.join(s)\n",
    "raw_corpus = raw_corpus[raw_corpus['estrofe'] != ' ']\n",
    "raw_corpus = raw_corpus.reset_index(drop=True)\n",
    "\n",
    "print(\"Corpus contém {} músicas em {}, com um total de {} estrofes\".format(n_musicas, n_generos, len(raw_corpus)))"
   ]
  },
  {
   "cell_type": "markdown",
   "metadata": {},
   "source": [
    "Agora iremos preparar as estrofes com as seguintes ações:\n",
    "\n",
    "* remover stopwords;\n",
    "* remover pontuação;\n",
    "* garantindo que todas as palavras estejam em caixa baixa;\n",
    "* quebrar cada estrofe em uma lista de palavras"
   ]
  },
  {
   "cell_type": "code",
   "execution_count": 5,
   "metadata": {
    "collapsed": true
   },
   "outputs": [],
   "source": [
    "def prepara_estrofes(frase, translator = str.maketrans('', '', string.punctuation)):\n",
    "    # Remove pontuação\n",
    "    frase = frase.translate(translator)\n",
    "    \n",
    "    # Garante que todas as palavras estão em caixa baixa\n",
    "    palavras = frase.lower().split()\n",
    "    \n",
    "    # Lista de stopwords que usaremos\n",
    "    stop_w = set(stopwords.words(\"portuguese\"))\n",
    "    \n",
    "    # Retorna apenas as palavras que não são stopwords\n",
    "    palavras_filtradas = [palavra for palavra in palavras if palavra not in stop_w]\n",
    "    \n",
    "    # Retorna a estrofe preparada\n",
    "    return(\" \".join(palavras_filtradas))"
   ]
  },
  {
   "cell_type": "code",
   "execution_count": 6,
   "metadata": {},
   "outputs": [
    {
     "name": "stdout",
     "output_type": "stream",
     "text": [
      "sei vou amar\n"
     ]
    }
   ],
   "source": [
    "print(prepara_estrofes('Eu sei que !!! , )vou te amar'))"
   ]
  },
  {
   "cell_type": "markdown",
   "metadata": {},
   "source": [
    "Agora iremos aplicar nosso procedimento de preparação no nosso dataset"
   ]
  },
  {
   "cell_type": "code",
   "execution_count": 7,
   "metadata": {},
   "outputs": [
    {
     "name": "stdout",
     "output_type": "stream",
     "text": [
      "Verso 10000 de 99380 processado\n",
      "Verso 20000 de 99380 processado\n",
      "Verso 30000 de 99380 processado\n",
      "Verso 40000 de 99380 processado\n",
      "Verso 50000 de 99380 processado\n",
      "Verso 60000 de 99380 processado\n",
      "Verso 70000 de 99380 processado\n",
      "Verso 80000 de 99380 processado\n",
      "Verso 90000 de 99380 processado\n"
     ]
    }
   ],
   "source": [
    "# Vamos salvas as estrofes preparadas nesta lista\n",
    "versos_preparados = list()\n",
    "no_estrofes = len(raw_corpus)\n",
    "\n",
    "for i in range(0, no_estrofes):\n",
    "    if( (i+1)%10000 == 0 ):\n",
    "        print(\"Verso %d de %d processado\" % ( i+1, no_estrofes ) )\n",
    "    versos_preparados.append( prepara_estrofes(raw_corpus['estrofe'][i]) )\n",
    "raw_corpus['versos_preparados'] = versos_preparados"
   ]
  },
  {
   "cell_type": "markdown",
   "metadata": {},
   "source": [
    "## Modelo"
   ]
  },
  {
   "cell_type": "markdown",
   "metadata": {},
   "source": [
    "Usaremos a abordagem **Bag of Words** para vetorizar nossas estrofes e treinar o modelo"
   ]
  },
  {
   "cell_type": "code",
   "execution_count": 8,
   "metadata": {
    "collapsed": true
   },
   "outputs": [],
   "source": [
    "from sklearn.feature_extraction.text import CountVectorizer\n",
    "from sklearn.ensemble import RandomForestClassifier\n",
    "from sklearn.svm import SVC\n",
    "from sklearn.model_selection import train_test_split\n",
    "from sklearn.metrics import confusion_matrix, precision_score, recall_score, accuracy_score\n",
    "from sklearn.externals import joblib"
   ]
  },
  {
   "cell_type": "code",
   "execution_count": 9,
   "metadata": {},
   "outputs": [],
   "source": [
    "import matplotlib.pyplot as plt\n",
    "import numpy as np\n",
    "import itertools\n",
    "def plot_confusion_matrix(cm, classes,\n",
    "                          normalize=False,\n",
    "                          title='Confusion matrix',\n",
    "                          cmap=plt.cm.Blues):\n",
    "    \"\"\"\n",
    "    This function prints and plots the confusion matrix.\n",
    "    Normalization can be applied by setting `normalize=True`.\n",
    "    \"\"\"\n",
    "    plt.imshow(cm, interpolation='nearest', cmap=cmap)\n",
    "    plt.title(title)\n",
    "    plt.colorbar()\n",
    "    tick_marks = np.arange(len(classes))\n",
    "    plt.xticks(tick_marks, classes, rotation=45)\n",
    "    plt.yticks(tick_marks, classes)\n",
    "\n",
    "    if normalize:\n",
    "        cm = cm.astype('float') / cm.sum(axis=1)[:, np.newaxis]\n",
    "        print(\"Normalized confusion matrix\")\n",
    "    else:\n",
    "        print('Confusion matrix, without normalization')\n",
    "\n",
    "    print(cm)\n",
    "\n",
    "    thresh = cm.max() / 2.\n",
    "    for i, j in itertools.product(range(cm.shape[0]), range(cm.shape[1])):\n",
    "        plt.text(j, i, cm[i, j],\n",
    "                 horizontalalignment=\"center\",\n",
    "                 color=\"white\" if cm[i, j] > thresh else \"black\")\n",
    "\n",
    "    plt.tight_layout()\n",
    "    plt.ylabel('True label')\n",
    "    plt.xlabel('Predicted label')"
   ]
  },
  {
   "cell_type": "code",
   "execution_count": 10,
   "metadata": {
    "collapsed": true
   },
   "outputs": [],
   "source": [
    "%matplotlib inline\n",
    "def validacao(X, y, classes):\n",
    "    # TODO Mostrar gráficamente a confusion matrix\n",
    "    plt.figure()\n",
    "    plot_confusion_matrix(confusion_matrix(y, X,), classes=classes, title='Confusion matrix')\n",
    "    plt.show()\n",
    "    print('Accuracy: {}'.format(accuracy_score(y, X)))\n",
    "    print('Precision: {}'.format(precision_score(y, X, average='macro')))\n",
    "    print('Recall: {}'.format(recall_score(y, X, average='macro')))"
   ]
  },
  {
   "cell_type": "code",
   "execution_count": 11,
   "metadata": {
    "collapsed": true
   },
   "outputs": [],
   "source": [
    "vetorizador = CountVectorizer(analyzer = \"word\", tokenizer = None, preprocessor = None,\n",
    "                              stop_words = None, max_features = WORD_FEATURES)\n",
    "train_data_features = vetorizador.fit_transform(raw_corpus[raw_corpus.inTrain == True].versos_preparados)\n",
    "train_data_features = train_data_features.toarray()"
   ]
  },
  {
   "cell_type": "code",
   "execution_count": 12,
   "metadata": {},
   "outputs": [],
   "source": [
    "X_train, X_test, y_train, y_test = train_test_split(train_data_features, \n",
    "                                                    raw_corpus[raw_corpus.inTrain == True].genero,\n",
    "                                                    test_size=TEST_RATIO, random_state=RANDOM_SEED)"
   ]
  },
  {
   "cell_type": "code",
   "execution_count": 13,
   "metadata": {},
   "outputs": [
    {
     "name": "stdout",
     "output_type": "stream",
     "text": [
      "building tree 1 of 100building tree 3 of 100building tree 2 of 100\n",
      "\n",
      "\n",
      "building tree 4 of 100\n",
      "building tree 5 of 100\n"
     ]
    },
    {
     "name": "stderr",
     "output_type": "stream",
     "text": [
      "[Parallel(n_jobs=3)]: Done   2 tasks      | elapsed:   22.1s\n"
     ]
    },
    {
     "name": "stdout",
     "output_type": "stream",
     "text": [
      "building tree 6 of 100\n",
      "building tree 7 of 100\n",
      "building tree 8 of 100\n",
      "building tree 9 of 100\n",
      "building tree 10 of 100\n"
     ]
    },
    {
     "name": "stderr",
     "output_type": "stream",
     "text": [
      "[Parallel(n_jobs=3)]: Done   7 tasks      | elapsed:  1.0min\n"
     ]
    },
    {
     "name": "stdout",
     "output_type": "stream",
     "text": [
      "building tree 11 of 100\n",
      "building tree 12 of 100\n",
      "building tree 13 of 100\n",
      "building tree 14 of 100\n"
     ]
    },
    {
     "name": "stderr",
     "output_type": "stream",
     "text": [
      "[Parallel(n_jobs=3)]: Done  12 tasks      | elapsed:  1.4min\n"
     ]
    },
    {
     "name": "stdout",
     "output_type": "stream",
     "text": [
      "building tree 15 of 100\n",
      "building tree 16 of 100\n",
      "building tree 17 of 100\n",
      "building tree 18 of 100\n",
      "building tree 19 of 100\n",
      "building tree 20 of 100\n",
      "building tree 21 of 100\n"
     ]
    },
    {
     "name": "stderr",
     "output_type": "stream",
     "text": [
      "[Parallel(n_jobs=3)]: Done  19 tasks      | elapsed:  2.4min\n"
     ]
    },
    {
     "name": "stdout",
     "output_type": "stream",
     "text": [
      "building tree 22 of 100\n",
      "building tree 23 of 100\n",
      "building tree 24 of 100\n",
      "building tree 25 of 100\n",
      "building tree 26 of 100\n",
      "building tree 27 of 100\n",
      "building tree 28 of 100\n"
     ]
    },
    {
     "name": "stderr",
     "output_type": "stream",
     "text": [
      "[Parallel(n_jobs=3)]: Done  26 tasks      | elapsed:  3.0min\n"
     ]
    },
    {
     "name": "stdout",
     "output_type": "stream",
     "text": [
      "building tree 29 of 100\n",
      "building tree 30 of 100\n",
      "building tree 31 of 100\n",
      "building tree 32 of 100\n",
      "building tree 33 of 100\n",
      "building tree 34 of 100\n",
      "building tree 35 of 100\n",
      "building tree 36 of 100\n",
      "building tree 37 of 100\n",
      "building tree 38 of 100\n"
     ]
    },
    {
     "name": "stderr",
     "output_type": "stream",
     "text": [
      "[Parallel(n_jobs=3)]: Done  35 tasks      | elapsed:  4.2min\n"
     ]
    },
    {
     "name": "stdout",
     "output_type": "stream",
     "text": [
      "building tree 39 of 100\n",
      "building tree 40 of 100\n",
      "building tree 41 of 100\n",
      "building tree 42 of 100\n",
      "building tree 43 of 100\n",
      "building tree 44 of 100\n",
      "building tree 45 of 100\n",
      "building tree 46 of 100\n",
      "building tree 47 of 100\n"
     ]
    },
    {
     "name": "stderr",
     "output_type": "stream",
     "text": [
      "[Parallel(n_jobs=3)]: Done  44 tasks      | elapsed:  5.2min\n"
     ]
    },
    {
     "name": "stdout",
     "output_type": "stream",
     "text": [
      "building tree 48 of 100\n",
      "building tree 49 of 100\n",
      "building tree 50 of 100\n",
      "building tree 51 of 100\n",
      "building tree 52 of 100\n",
      "building tree 53 of 100\n",
      "building tree 54 of 100\n",
      "building tree 55 of 100\n",
      "building tree 56 of 100\n",
      "building tree 57 of 100\n"
     ]
    },
    {
     "name": "stderr",
     "output_type": "stream",
     "text": [
      "[Parallel(n_jobs=3)]: Done  55 tasks      | elapsed:  6.4min\n"
     ]
    },
    {
     "name": "stdout",
     "output_type": "stream",
     "text": [
      "building tree 58 of 100\n",
      "building tree 59 of 100\n",
      "building tree 60 of 100\n",
      "building tree 61 of 100\n",
      "building tree 62 of 100\n",
      "building tree 63 of 100\n",
      "building tree 64 of 100\n",
      "building tree 65 of 100\n",
      "building tree 66 of 100\n",
      "building tree 67 of 100\n",
      "building tree 68 of 100\n"
     ]
    },
    {
     "name": "stderr",
     "output_type": "stream",
     "text": [
      "[Parallel(n_jobs=3)]: Done  66 tasks      | elapsed:  7.7min\n"
     ]
    },
    {
     "name": "stdout",
     "output_type": "stream",
     "text": [
      "building tree 69 of 100\n",
      "building tree 70 of 100\n",
      "building tree 71 of 100\n",
      "building tree 72 of 100\n",
      "building tree 73 of 100\n",
      "building tree 74 of 100\n",
      "building tree 75 of 100\n",
      "building tree 76 of 100\n",
      "building tree 77 of 100\n",
      "building tree 78 of 100\n",
      "building tree 79 of 100\n",
      "building tree 80 of 100\n",
      "building tree 81 of 100\n"
     ]
    },
    {
     "name": "stderr",
     "output_type": "stream",
     "text": [
      "[Parallel(n_jobs=3)]: Done  79 tasks      | elapsed:  9.1min\n"
     ]
    },
    {
     "name": "stdout",
     "output_type": "stream",
     "text": [
      "building tree 82 of 100\n",
      "building tree 83 of 100\n",
      "building tree 84 of 100\n",
      "building tree 85 of 100\n",
      "building tree 86 of 100\n",
      "building tree 87 of 100\n",
      "building tree 88 of 100\n",
      "building tree 89 of 100\n",
      "building tree 90 of 100\n",
      "building tree 91 of 100\n",
      "building tree 92 of 100\n",
      "building tree 93 of 100\n",
      "building tree 94 of 100\n"
     ]
    },
    {
     "name": "stderr",
     "output_type": "stream",
     "text": [
      "[Parallel(n_jobs=3)]: Done  92 tasks      | elapsed: 11.0min\n"
     ]
    },
    {
     "name": "stdout",
     "output_type": "stream",
     "text": [
      "building tree 95 of 100\n",
      "building tree 96 of 100\n",
      "building tree 97 of 100\n",
      "building tree 98 of 100\n",
      "building tree 99 of 100\n",
      "building tree 100 of 100\n"
     ]
    },
    {
     "name": "stderr",
     "output_type": "stream",
     "text": [
      "[Parallel(n_jobs=3)]: Done 100 out of 100 | elapsed: 11.7min finished\n"
     ]
    },
    {
     "name": "stdout",
     "output_type": "stream",
     "text": [
      "CPU times: user 33min 42s, sys: 5.58 s, total: 33min 47s\n",
      "Wall time: 11min 45s\n"
     ]
    },
    {
     "name": "stderr",
     "output_type": "stream",
     "text": [
      "[Parallel(n_jobs=3)]: Done   2 tasks      | elapsed:    0.1s\n",
      "[Parallel(n_jobs=3)]: Done   7 tasks      | elapsed:    0.2s\n",
      "[Parallel(n_jobs=3)]: Done  12 tasks      | elapsed:    0.3s\n",
      "[Parallel(n_jobs=3)]: Done  19 tasks      | elapsed:    0.4s\n",
      "[Parallel(n_jobs=3)]: Done  26 tasks      | elapsed:    0.6s\n",
      "[Parallel(n_jobs=3)]: Done  35 tasks      | elapsed:    0.9s\n",
      "[Parallel(n_jobs=3)]: Done  44 tasks      | elapsed:    1.0s\n",
      "[Parallel(n_jobs=3)]: Done  55 tasks      | elapsed:    1.3s\n",
      "[Parallel(n_jobs=3)]: Done  66 tasks      | elapsed:    1.5s\n",
      "[Parallel(n_jobs=3)]: Done  79 tasks      | elapsed:    1.8s\n",
      "[Parallel(n_jobs=3)]: Done  92 tasks      | elapsed:    2.1s\n",
      "[Parallel(n_jobs=3)]: Done 100 out of 100 | elapsed:    2.2s finished\n"
     ]
    }
   ],
   "source": [
    "# Inicialzando classificador e treinando modelo\n",
    "forest = RandomForestClassifier(n_estimators = N_TREES, n_jobs=CORES, verbose=10) \n",
    "%time forest = forest.fit( X_train, y_train )\n",
    "predictions_RF = forest.predict(X_test)"
   ]
  },
  {
   "cell_type": "markdown",
   "metadata": {},
   "source": [
    "## Validação"
   ]
  },
  {
   "cell_type": "code",
   "execution_count": 14,
   "metadata": {
    "scrolled": true
   },
   "outputs": [
    {
     "name": "stdout",
     "output_type": "stream",
     "text": [
      "Confusion matrix, without normalization\n",
      "[[2233  353  307  403]\n",
      " [ 597 3825  266  444]\n",
      " [ 387  261 2798  307]\n",
      " [ 528  515  378 2330]]\n"
     ]
    },
    {
     "data": {
      "image/png": "[encoded data removed]",
      "text/plain": [
       "<matplotlib.figure.Figure at 0x7f2d8ce83860>"
      ]
     },
     "metadata": {},
     "output_type": "display_data"
    },
    {
     "name": "stdout",
     "output_type": "stream",
     "text": [
      "Accuracy: 0.7021089630931459\n",
      "Precision: 0.6958672288364581\n",
      "Recall: 0.6973789792858628\n"
     ]
    }
   ],
   "source": [
    "# Validando por verso\n",
    "validacao(predictions_RF, y_test, forest.classes_)"
   ]
  },
  {
   "cell_type": "code",
   "execution_count": 15,
   "metadata": {},
   "outputs": [
    {
     "name": "stderr",
     "output_type": "stream",
     "text": [
      "[Parallel(n_jobs=3)]: Done   2 tasks      | elapsed:    0.2s\n",
      "[Parallel(n_jobs=3)]: Done   7 tasks      | elapsed:    0.6s\n",
      "[Parallel(n_jobs=3)]: Done  12 tasks      | elapsed:    1.1s\n",
      "[Parallel(n_jobs=3)]: Done  19 tasks      | elapsed:    1.6s\n",
      "[Parallel(n_jobs=3)]: Done  26 tasks      | elapsed:    2.2s\n",
      "[Parallel(n_jobs=3)]: Done  35 tasks      | elapsed:    2.9s\n",
      "[Parallel(n_jobs=3)]: Done  44 tasks      | elapsed:    3.6s\n",
      "[Parallel(n_jobs=3)]: Done  55 tasks      | elapsed:    4.5s\n",
      "[Parallel(n_jobs=3)]: Done  66 tasks      | elapsed:    5.5s\n",
      "[Parallel(n_jobs=3)]: Done  79 tasks      | elapsed:    6.6s\n",
      "[Parallel(n_jobs=3)]: Done  92 tasks      | elapsed:    7.7s\n",
      "[Parallel(n_jobs=3)]: Done 100 out of 100 | elapsed:    8.2s finished\n"
     ]
    }
   ],
   "source": [
    "# Validando por música\n",
    "raw_corpus['pred_verso'] = forest.predict(vetorizador.transform(raw_corpus['versos_preparados']))"
   ]
  },
  {
   "cell_type": "code",
   "execution_count": 16,
   "metadata": {},
   "outputs": [],
   "source": [
    "from collections import Counter\n",
    "predicoes_musica = list()\n",
    "genero_musica = list()\n",
    "test_music = raw_corpus[raw_corpus.inTrain == False]\n",
    "for i in test_music['idx'].drop_duplicates():\n",
    "    df = raw_corpus[raw_corpus.idx == i]\n",
    "    \n",
    "    # Encontra classe mais comum\n",
    "    count = Counter(df['pred_verso'])\n",
    "    genero_musica.append(df['genero'].unique())\n",
    "    predicoes_musica.append(count.most_common(1)[0][0])"
   ]
  },
  {
   "cell_type": "code",
   "execution_count": 17,
   "metadata": {},
   "outputs": [
    {
     "name": "stdout",
     "output_type": "stream",
     "text": [
      "Confusion matrix, without normalization\n",
      "[[134   9   3  14]\n",
      " [ 14 130   4  12]\n",
      " [  7   4 142   7]\n",
      " [ 23  31  12  94]]\n"
     ]
    },
    {
     "data": {
      "image/png": "[encoded data removed]",
      "text/plain": [
       "<matplotlib.figure.Figure at 0x7f2d89a4be48>"
      ]
     },
     "metadata": {},
     "output_type": "display_data"
    },
    {
     "name": "stdout",
     "output_type": "stream",
     "text": [
      "Accuracy: 0.78125\n",
      "Precision: 0.7805201208750916\n",
      "Recall: 0.7812499999999999\n"
     ]
    }
   ],
   "source": [
    "# Predição por Música\n",
    "validacao(predicoes_musica,genero_musica, forest.classes_)"
   ]
  },
  {
   "cell_type": "code",
   "execution_count": 18,
   "metadata": {},
   "outputs": [
    {
     "data": {
      "text/plain": [
       "['../app/model/stopwords.pkl.bz2']"
      ]
     },
     "execution_count": 18,
     "metadata": {},
     "output_type": "execute_result"
    }
   ],
   "source": [
    "# Exportando modelo e vetorizador\n",
    "joblib.dump(vetorizador, os.path.join(MODEL,'vetorizador.pkl.bz2'))\n",
    "joblib.dump(forest, os.path.join(MODEL,'modelo.pkl.bz2')) \n",
    "joblib.dump(stopwords.words(), os.path.join(MODEL,'stopwords.pkl.bz2')) "
   ]
  }
 ],
 "metadata": {
  "kernelspec": {
   "display_name": "Python 3",
   "language": "python",
   "name": "python3"
  },
  "language_info": {
   "codemirror_mode": {
    "name": "ipython",
    "version": 3
   },
   "file_extension": ".py",
   "mimetype": "text/x-python",
   "name": "python",
   "nbconvert_exporter": "python",
   "pygments_lexer": "ipython3",
   "version": "3.6.1"
  }
 },
 "nbformat": 4,
 "nbformat_minor": 2
}
